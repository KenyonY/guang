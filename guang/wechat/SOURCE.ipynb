{
 "cells": [
  {
   "cell_type": "code",
   "execution_count": 1,
   "metadata": {},
   "outputs": [
    {
     "name": "stdout",
     "output_type": "stream",
     "text": [
      "Overwriting download.py\n"
     ]
    }
   ],
   "source": [
    "%%writefile download.py\n",
    "import itchat\n",
    "from guang.wechat.Utils import download_file, dynamic_specified_msg, get_userName,d_time\n",
    "import argparse\n",
    "\n",
    "def downloads(nickName='caloi', fileType='mp3', d_t=60):\n",
    "    \"\"\" downloads wechat files with any file type\n",
    "    Args:\n",
    "        d_t: Program run duration. unit: s\n",
    "    \"\"\"\n",
    "    itchat.auto_login(hotReload=True)\n",
    "\n",
    "    while d_time(d_t):\n",
    "        \n",
    "        msg = dynamic_specified_msg(get_userName(nickName)[nickName])\n",
    "        msg = download_file(msg, fileType=fileType)\n",
    "        \n",
    "if __name__==\"__main__\":\n",
    "    downloads()"
   ]
  },
  {
   "cell_type": "code",
   "execution_count": null,
   "metadata": {},
   "outputs": [],
   "source": [
    "downloads()"
   ]
  },
  {
   "cell_type": "code",
   "execution_count": null,
   "metadata": {},
   "outputs": [],
   "source": [
    "!python download.py"
   ]
  },
  {
   "cell_type": "code",
   "execution_count": null,
   "metadata": {},
   "outputs": [],
   "source": [
    "from guang.wechat.Utils.download import downloads\n",
    "downloads(nickName='caloi', fileType='mp3', d_t=60)\n"
   ]
  }
 ],
 "metadata": {
  "kernelspec": {
   "display_name": "Python [conda env:tf2]",
   "language": "python",
   "name": "conda-env-tf2-py"
  },
  "language_info": {
   "codemirror_mode": {
    "name": "ipython",
    "version": 3
   },
   "file_extension": ".py",
   "mimetype": "text/x-python",
   "name": "python",
   "nbconvert_exporter": "python",
   "pygments_lexer": "ipython3",
   "version": "3.7.4"
  }
 },
 "nbformat": 4,
 "nbformat_minor": 4
}
