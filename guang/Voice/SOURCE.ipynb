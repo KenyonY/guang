{
 "cells": [
  {
   "cell_type": "code",
   "execution_count": 61,
   "metadata": {},
   "outputs": [
    {
     "name": "stdout",
     "output_type": "stream",
     "text": [
      "100.00% \t0'2.0\"|0'2.0\"\tExpect:12-29 0:52:40 \tThe number that need to be deleted:17\n",
      "['data\\\\000003.wav', 'data\\\\000005.wav', 'data\\\\000006.wav', 'data\\\\000009.wav', 'data\\\\000011.wav', 'data\\\\000016.wav', 'data\\\\000017.wav', 'data\\\\000018.wav', 'data\\\\000019.wav', 'data\\\\000020.wav', 'data\\\\000022.wav', 'data\\\\000026.wav', 'data\\\\000030.wav']\n"
     ]
    }
   ],
   "source": [
    "\n",
    "from guang.Utils.toolsFunc import probar\n",
    "import os\n",
    "import librosa\n",
    "def reduce_from_duration(filelist, least_time=3):\n",
    "    \"\"\"\n",
    "    return: reduce_list, reduced_list, IDX\n",
    "    \"\"\"\n",
    "    reduce_list = []\n",
    "    reduced_list = []\n",
    "    IDX = []\n",
    "    for idx, i in probar(filelist):\n",
    "        try:\n",
    "            if librosa.get_duration(filename = i) < least_time:\n",
    "                reduce_list.append(i)\n",
    "            else:\n",
    "                reduced_list.append(i)\n",
    "                IDX.append(idx)\n",
    "        except:\n",
    "            print(f'file {i} open failed, and has been ignored')\n",
    "            continue\n",
    "    print(F'The number that need to be deleted:{len(reduce_list)}')\n",
    "    return reduce_list, reduced_list, IDX\n",
    "\n",
    "    \n",
    "        \n",
    "if __name__ == \"__main__\":\n",
    "    from glob import glob\n",
    "    flist = glob(r\"data/*\")\n",
    "#     print(flist)\n",
    "    _, l, _ = reduce_from_duration(flist)\n",
    "    print(l)"
   ]
  },
  {
   "cell_type": "code",
   "execution_count": 64,
   "metadata": {},
   "outputs": [
    {
     "name": "stdout",
     "output_type": "stream",
     "text": [
      "Overwriting reduce.py\n"
     ]
    }
   ],
   "source": [
    "%%writefile reduce.py\n",
    "from multiprocessing import Pool, TimeoutError\n",
    "import os\n",
    "import librosa\n",
    "from glob import glob\n",
    "\n",
    "def is_lt_duration(file, least_time):\n",
    "    try:\n",
    "        if librosa.get_duration(filename = file) < least_time:\n",
    "            return 1\n",
    "        else:\n",
    "            return 0\n",
    "    except:\n",
    "        print(f'file {i} open failed, and has been ignored')\n",
    "#         return None\n",
    "\n",
    "def reduce_from_duration(filelist, least_time=1):\n",
    "    '''\n",
    "    return reduced list\n",
    "    '''\n",
    "    with Pool(processes=None) as pool:\n",
    "        multi_res=[pool.apply_async(is_lt_duration, (i,least_time)) for i in filelist]\n",
    "        reduce_list = [res.get() for res in multi_res]\n",
    "        \n",
    "    return [filelist[idx] for idx,i in enumerate(reduce_list) if i==0]\n",
    "\n",
    "\n",
    "import time\n",
    "if __name__ == \"__main__\":\n",
    "    t1=time.time()\n",
    "    flist = glob(r\"data/*\")\n",
    "    l = reduce_from_duration(flist, least_time=3)\n",
    "    print(l)\n",
    "    print(time.time()- t1)"
   ]
  },
  {
   "cell_type": "code",
   "execution_count": 63,
   "metadata": {},
   "outputs": [
    {
     "name": "stdout",
     "output_type": "stream",
     "text": [
      "['data\\\\000003.wav', 'data\\\\000005.wav', 'data\\\\000006.wav', 'data\\\\000009.wav', 'data\\\\000011.wav', 'data\\\\000016.wav', 'data\\\\000017.wav', 'data\\\\000018.wav', 'data\\\\000019.wav', 'data\\\\000020.wav', 'data\\\\000022.wav', 'data\\\\000026.wav', 'data\\\\000030.wav']\n",
      "2.7940330505371094\n"
     ]
    }
   ],
   "source": [
    "!python reduce.py"
   ]
  },
  {
   "cell_type": "code",
   "execution_count": null,
   "metadata": {},
   "outputs": [],
   "source": []
  }
 ],
 "metadata": {
  "kernelspec": {
   "display_name": "Python [conda env:tf2]",
   "language": "python",
   "name": "conda-env-tf2-py"
  },
  "language_info": {
   "codemirror_mode": {
    "name": "ipython",
    "version": 3
   },
   "file_extension": ".py",
   "mimetype": "text/x-python",
   "name": "python",
   "nbconvert_exporter": "python",
   "pygments_lexer": "ipython3",
   "version": "3.7.4"
  }
 },
 "nbformat": 4,
 "nbformat_minor": 4
}
