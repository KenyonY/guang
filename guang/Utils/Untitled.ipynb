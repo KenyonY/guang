{
 "cells": [
  {
   "cell_type": "code",
   "execution_count": 1,
   "metadata": {},
   "outputs": [],
   "source": [
    "import jupyter\n",
    "from  jupyter import output\n",
    "import matplotlib.pyplot as plt\n",
    "import numpy as np\n"
   ]
  },
  {
   "cell_type": "code",
   "execution_count": 4,
   "metadata": {},
   "outputs": [],
   "source": [
    "from guang.Utils.jupyter import output, reload"
   ]
  },
  {
   "cell_type": "code",
   "execution_count": 5,
   "metadata": {},
   "outputs": [],
   "source": [
    "output('all')"
   ]
  },
  {
   "cell_type": "code",
   "execution_count": 6,
   "metadata": {},
   "outputs": [],
   "source": [
    "from multiprocessing import Pool, TimeoutError\n",
    "import time"
   ]
  },
  {
   "cell_type": "code",
   "execution_count": null,
   "metadata": {},
   "outputs": [],
   "source": [
    "def multi_cvt2wav(PATH_orig, PATH_new, sr=16000, n_cpu=16):\n",
    "    p =Pool(processes=n_cpu)\n",
    "    for i,j in zip(PATH_orig, PATH_new):\n",
    "        p.apply_async(cvt2wav, (i, j, sr))\n",
    "    p.close()\n",
    "    p.join()"
   ]
  },
  {
   "cell_type": "code",
   "execution_count": 24,
   "metadata": {},
   "outputs": [],
   "source": [
    "def f(x):\n",
    "    print(x*x)\n",
    "    return x*x"
   ]
  },
  {
   "cell_type": "code",
   "execution_count": 27,
   "metadata": {},
   "outputs": [
    {
     "data": {
      "text/plain": [
       "<multiprocessing.pool.ApplyResult at 0x7fc8fb1544d0>"
      ]
     },
     "execution_count": 27,
     "metadata": {},
     "output_type": "execute_result"
    },
    {
     "data": {
      "text/plain": [
       "<multiprocessing.pool.ApplyResult at 0x7fc8f987bf10>"
      ]
     },
     "execution_count": 27,
     "metadata": {},
     "output_type": "execute_result"
    },
    {
     "data": {
      "text/plain": [
       "<multiprocessing.pool.ApplyResult at 0x7fc8f9886d90>"
      ]
     },
     "execution_count": 27,
     "metadata": {},
     "output_type": "execute_result"
    },
    {
     "data": {
      "text/plain": [
       "<multiprocessing.pool.ApplyResult at 0x7fc8f9862ad0>"
      ]
     },
     "execution_count": 27,
     "metadata": {},
     "output_type": "execute_result"
    },
    {
     "data": {
      "text/plain": [
       "<multiprocessing.pool.ApplyResult at 0x7fc8f9870590>"
      ]
     },
     "execution_count": 27,
     "metadata": {},
     "output_type": "execute_result"
    },
    {
     "data": {
      "text/plain": [
       "<multiprocessing.pool.ApplyResult at 0x7fc8fb1544d0>"
      ]
     },
     "execution_count": 27,
     "metadata": {},
     "output_type": "execute_result"
    },
    {
     "data": {
      "text/plain": [
       "<multiprocessing.pool.ApplyResult at 0x7fc8f9870e50>"
      ]
     },
     "execution_count": 27,
     "metadata": {},
     "output_type": "execute_result"
    }
   ],
   "source": [
    "with Pool(processes=4) as pool:\n",
    "    for i in range(2, 9):\n",
    "        pool.apply_async(f, (i))\n",
    "pool.join()"
   ]
  },
  {
   "cell_type": "code",
   "execution_count": 28,
   "metadata": {},
   "outputs": [
    {
     "data": {
      "text/plain": [
       "<multiprocessing.pool.ApplyResult at 0x7fc8f987b5d0>"
      ]
     },
     "execution_count": 28,
     "metadata": {},
     "output_type": "execute_result"
    },
    {
     "data": {
      "text/plain": [
       "<multiprocessing.pool.ApplyResult at 0x7fc8f987bb90>"
      ]
     },
     "execution_count": 28,
     "metadata": {},
     "output_type": "execute_result"
    },
    {
     "data": {
      "text/plain": [
       "<multiprocessing.pool.ApplyResult at 0x7fc8f9870190>"
      ]
     },
     "execution_count": 28,
     "metadata": {},
     "output_type": "execute_result"
    },
    {
     "data": {
      "text/plain": [
       "<multiprocessing.pool.ApplyResult at 0x7fc8fb17a410>"
      ]
     },
     "execution_count": 28,
     "metadata": {},
     "output_type": "execute_result"
    },
    {
     "data": {
      "text/plain": [
       "<multiprocessing.pool.ApplyResult at 0x7fc8f986f950>"
      ]
     },
     "execution_count": 28,
     "metadata": {},
     "output_type": "execute_result"
    },
    {
     "data": {
      "text/plain": [
       "<multiprocessing.pool.ApplyResult at 0x7fc8f986f310>"
      ]
     },
     "execution_count": 28,
     "metadata": {},
     "output_type": "execute_result"
    },
    {
     "data": {
      "text/plain": [
       "<multiprocessing.pool.ApplyResult at 0x7fc8f9870190>"
      ]
     },
     "execution_count": 28,
     "metadata": {},
     "output_type": "execute_result"
    }
   ],
   "source": [
    "pool =Pool(processes=4)\n",
    "for i in range(2, 9):\n",
    "    pool.apply_async(f, (i))\n",
    "pool.close()\n",
    "pool.join()"
   ]
  },
  {
   "cell_type": "code",
   "execution_count": 68,
   "metadata": {},
   "outputs": [],
   "source": [
    "from guang.Utils.jupyter import reload\n",
    "import date\n",
    "reload(date)\n",
    "import date\n",
    "from date import LunarDate as Lunar\n",
    "from datetime import datetime\n",
    "from date import chinaCalendar"
   ]
  },
  {
   "cell_type": "code",
   "execution_count": 69,
   "metadata": {},
   "outputs": [
    {
     "name": "stdout",
     "output_type": "stream",
     "text": [
      "(2019, 12, 16, ['己亥年', '丁丑月', '壬子日'])\n",
      "二零一九年腊月十六 己亥年 (猪年)\n",
      "2020-01-10 00:00:00\n"
     ]
    }
   ],
   "source": [
    "print(chinaCalendar(\"2020-1-10\"))\n",
    "\n",
    "print(Lunar.from_datetime(datetime(2020,1,10)).chinese())\n",
    "print(Lunar(2019,12,16).to_datetime())"
   ]
  },
  {
   "cell_type": "code",
   "execution_count": 41,
   "metadata": {},
   "outputs": [
    {
     "name": "stdout",
     "output_type": "stream",
     "text": [
      "2020-1-10 为农历：己亥年 丁丑月 壬子日 十二月十六\n",
      "\n",
      "(2019, 12, 16, ['己亥年', '丁丑月', '壬子日'])\n"
     ]
    }
   ],
   "source": [
    "Lunar()"
   ]
  }
 ],
 "metadata": {
  "kernelspec": {
   "display_name": "Python [conda env:tf2]",
   "language": "python",
   "name": "conda-env-tf2-py"
  },
  "language_info": {
   "codemirror_mode": {
    "name": "ipython",
    "version": 3
   },
   "file_extension": ".py",
   "mimetype": "text/x-python",
   "name": "python",
   "nbconvert_exporter": "python",
   "pygments_lexer": "ipython3",
   "version": "3.7.4"
  }
 },
 "nbformat": 4,
 "nbformat_minor": 4
}
